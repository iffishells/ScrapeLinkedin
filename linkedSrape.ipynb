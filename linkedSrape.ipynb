{
 "cells": [
  {
   "cell_type": "code",
   "execution_count": 101,
   "id": "7897f712-13e9-4367-8a22-154f46c63024",
   "metadata": {},
   "outputs": [],
   "source": [
    "import numpy as np\n",
    "import pandas as pd\n",
    "from selenium import webdriver\n",
    "import time\n",
    "from selenium.webdriver.common.keys import Keys\n",
    "\n",
    "\n",
    "# wati untill event is clickable\n",
    "from selenium.webdriver.support.wait import WebDriverWait \n",
    "\n",
    "# expected condition\n",
    "from selenium.webdriver.support import expected_conditions as EC\n",
    "\n",
    "from selenium.webdriver.common.by import By\n",
    "from bs4 import BeautifulSoup\n"
   ]
  },
  {
   "cell_type": "code",
   "execution_count": 103,
   "id": "e14132ac-135f-4c3a-9573-f0456f2c288f",
   "metadata": {},
   "outputs": [
    {
     "name": "stderr",
     "output_type": "stream",
     "text": [
      "/tmp/ipykernel_98785/633491026.py:1: DeprecationWarning: executable_path has been deprecated, please pass in a Service object\n",
      "  driver = webdriver.Chrome('chromedriver_linux64/chromedriver')\n",
      "/tmp/ipykernel_98785/633491026.py:14: DeprecationWarning: find_element_by_* commands are deprecated. Please use find_element() instead\n",
      "  submit = driver.find_element_by_xpath(\"//button[@type ='submit']\").click()\n"
     ]
    }
   ],
   "source": [
    "driver = webdriver.Chrome('chromedriver_linux64/chromedriver')\n",
    "driver.get('https://www.linkedin.com/login?fromSignIn=true&trk=guest_homepage-basic_nav-header-signin')\n",
    "# driver.find_element_by_class_name('nav__button-secondary').click()\n",
    "username = WebDriverWait(driver, 10).until(EC.presence_of_element_located((By.ID, \"username\")))\n",
    "username.clear()\n",
    "username.send_keys(\"p180054@nu.edu.pk\")\n",
    "time.sleep(2)\n",
    "\n",
    "password = WebDriverWait(driver, 10).until(EC.presence_of_element_located((By.ID, \"password\")))\n",
    "password.send_keys(\"razerblade123!@#\")\n",
    "time.sleep(2)\n",
    "\n",
    "\n",
    "submit = driver.find_element_by_xpath(\"//button[@type ='submit']\").click()\n",
    "\n",
    "\n"
   ]
  },
  {
   "cell_type": "code",
   "execution_count": 111,
   "id": "66f63e70-8ae5-4f3f-8b77-7ea0a29d4a30",
   "metadata": {},
   "outputs": [
    {
     "name": "stdout",
     "output_type": "stream",
     "text": [
      "[<selenium.webdriver.remote.webelement.WebElement (session=\"fad239cdbc1cdad661de7be951521cfa\", element=\"2a154711-3162-4033-802d-ab476411f2d5\")>, <selenium.webdriver.remote.webelement.WebElement (session=\"fad239cdbc1cdad661de7be951521cfa\", element=\"3be53b44-ef8d-4c4e-ad8c-f94ce08e8127\")>, <selenium.webdriver.remote.webelement.WebElement (session=\"fad239cdbc1cdad661de7be951521cfa\", element=\"5327e540-a5fa-4210-b416-afc5a3c477a0\")>, <selenium.webdriver.remote.webelement.WebElement (session=\"fad239cdbc1cdad661de7be951521cfa\", element=\"1713e3ef-9fc8-4907-91d4-0a47c6feeaa9\")>, <selenium.webdriver.remote.webelement.WebElement (session=\"fad239cdbc1cdad661de7be951521cfa\", element=\"fff2d0f3-85e8-4ca1-b45b-75203e6f0a59\")>]\n"
     ]
    },
    {
     "name": "stderr",
     "output_type": "stream",
     "text": [
      "/tmp/ipykernel_98785/3989715111.py:4: DeprecationWarning: find_elements_by_* commands are deprecated. Please use find_elements() instead\n",
      "  search_bars = driver.find_elements_by_class_name('jobs-search-box__text-input')\n"
     ]
    }
   ],
   "source": [
    "time.sleep(2)\n",
    "jobs = driver.get(\"https://www.linkedin.com/jobs/\")\n",
    "\n",
    "search_bars = driver.find_elements_by_class_name('jobs-search-box__text-input')\n",
    "print(search_bars)"
   ]
  },
  {
   "cell_type": "code",
   "execution_count": 113,
   "id": "f3a7c00f-b797-472d-8144-bc8eda21e2d5",
   "metadata": {},
   "outputs": [
    {
     "ename": "StaleElementReferenceException",
     "evalue": "Message: stale element reference: element is not attached to the page document\n  (Session info: chrome=99.0.4844.51)\nStacktrace:\n#0 0x55fae43807d3 <unknown>\n#1 0x55fae40dc688 <unknown>\n#2 0x55fae40df477 <unknown>\n#3 0x55fae40df316 <unknown>\n#4 0x55fae40df5dc <unknown>\n#5 0x55fae41137c5 <unknown>\n#6 0x55fae41138a0 <unknown>\n#7 0x55fae410a8ea <unknown>\n#8 0x55fae41306b2 <unknown>\n#9 0x55fae41072c3 <unknown>\n#10 0x55fae41307be <unknown>\n#11 0x55fae4143a0c <unknown>\n#12 0x55fae41305a3 <unknown>\n#13 0x55fae4105ddc <unknown>\n#14 0x55fae4106de5 <unknown>\n#15 0x55fae43b149d <unknown>\n#16 0x55fae43ca60c <unknown>\n#17 0x55fae43b3205 <unknown>\n#18 0x55fae43caee5 <unknown>\n#19 0x55fae43a7070 <unknown>\n#20 0x55fae43e6488 <unknown>\n#21 0x55fae43e660c <unknown>\n#22 0x55fae43ffc6d <unknown>\n#23 0x7f7864e03609 <unknown>\n",
     "output_type": "error",
     "traceback": [
      "\u001b[0;31m---------------------------------------------------------------------------\u001b[0m",
      "\u001b[0;31mStaleElementReferenceException\u001b[0m            Traceback (most recent call last)",
      "\u001b[0;32m/tmp/ipykernel_98785/75864468.py\u001b[0m in \u001b[0;36m<module>\u001b[0;34m\u001b[0m\n\u001b[1;32m      2\u001b[0m \u001b[0mkeyword\u001b[0m\u001b[0;34m.\u001b[0m\u001b[0mclear\u001b[0m\u001b[0;34m(\u001b[0m\u001b[0;34m)\u001b[0m\u001b[0;34m\u001b[0m\u001b[0;34m\u001b[0m\u001b[0m\n\u001b[1;32m      3\u001b[0m \u001b[0mkeyword\u001b[0m\u001b[0;34m.\u001b[0m\u001b[0msend_keys\u001b[0m\u001b[0;34m(\u001b[0m\u001b[0;34m\"Data Science\"\u001b[0m\u001b[0;34m)\u001b[0m\u001b[0;34m\u001b[0m\u001b[0;34m\u001b[0m\u001b[0m\n\u001b[0;32m----> 4\u001b[0;31m \u001b[0mkeyword\u001b[0m\u001b[0;34m.\u001b[0m\u001b[0msend_keys\u001b[0m\u001b[0;34m(\u001b[0m\u001b[0mKeys\u001b[0m\u001b[0;34m.\u001b[0m\u001b[0mRETURN\u001b[0m\u001b[0;34m)\u001b[0m\u001b[0;34m\u001b[0m\u001b[0;34m\u001b[0m\u001b[0m\n\u001b[0m\u001b[1;32m      5\u001b[0m \u001b[0mkeyword\u001b[0m\u001b[0;34m.\u001b[0m\u001b[0msend_keys\u001b[0m\u001b[0;34m(\u001b[0m\u001b[0mKeys\u001b[0m\u001b[0;34m.\u001b[0m\u001b[0mRETURN\u001b[0m\u001b[0;34m)\u001b[0m\u001b[0;34m\u001b[0m\u001b[0;34m\u001b[0m\u001b[0m\n\u001b[1;32m      6\u001b[0m \u001b[0;31m# time.sleep(2)\u001b[0m\u001b[0;34m\u001b[0m\u001b[0;34m\u001b[0m\u001b[0m\n",
      "\u001b[0;32m~/anaconda3/lib/python3.9/site-packages/selenium/webdriver/remote/webelement.py\u001b[0m in \u001b[0;36msend_keys\u001b[0;34m(self, *value)\u001b[0m\n\u001b[1;32m    538\u001b[0m                 \u001b[0mvalue\u001b[0m \u001b[0;34m=\u001b[0m \u001b[0;34m'\\n'\u001b[0m\u001b[0;34m.\u001b[0m\u001b[0mjoin\u001b[0m\u001b[0;34m(\u001b[0m\u001b[0mremote_files\u001b[0m\u001b[0;34m)\u001b[0m\u001b[0;34m\u001b[0m\u001b[0;34m\u001b[0m\u001b[0m\n\u001b[1;32m    539\u001b[0m \u001b[0;34m\u001b[0m\u001b[0m\n\u001b[0;32m--> 540\u001b[0;31m         self._execute(Command.SEND_KEYS_TO_ELEMENT,\n\u001b[0m\u001b[1;32m    541\u001b[0m                       {'text': \"\".join(keys_to_typing(value)),\n\u001b[1;32m    542\u001b[0m                        'value': keys_to_typing(value)})\n",
      "\u001b[0;32m~/anaconda3/lib/python3.9/site-packages/selenium/webdriver/remote/webelement.py\u001b[0m in \u001b[0;36m_execute\u001b[0;34m(self, command, params)\u001b[0m\n\u001b[1;32m    708\u001b[0m             \u001b[0mparams\u001b[0m \u001b[0;34m=\u001b[0m \u001b[0;34m{\u001b[0m\u001b[0;34m}\u001b[0m\u001b[0;34m\u001b[0m\u001b[0;34m\u001b[0m\u001b[0m\n\u001b[1;32m    709\u001b[0m         \u001b[0mparams\u001b[0m\u001b[0;34m[\u001b[0m\u001b[0;34m'id'\u001b[0m\u001b[0;34m]\u001b[0m \u001b[0;34m=\u001b[0m \u001b[0mself\u001b[0m\u001b[0;34m.\u001b[0m\u001b[0m_id\u001b[0m\u001b[0;34m\u001b[0m\u001b[0;34m\u001b[0m\u001b[0m\n\u001b[0;32m--> 710\u001b[0;31m         \u001b[0;32mreturn\u001b[0m \u001b[0mself\u001b[0m\u001b[0;34m.\u001b[0m\u001b[0m_parent\u001b[0m\u001b[0;34m.\u001b[0m\u001b[0mexecute\u001b[0m\u001b[0;34m(\u001b[0m\u001b[0mcommand\u001b[0m\u001b[0;34m,\u001b[0m \u001b[0mparams\u001b[0m\u001b[0;34m)\u001b[0m\u001b[0;34m\u001b[0m\u001b[0;34m\u001b[0m\u001b[0m\n\u001b[0m\u001b[1;32m    711\u001b[0m \u001b[0;34m\u001b[0m\u001b[0m\n\u001b[1;32m    712\u001b[0m     \u001b[0;32mdef\u001b[0m \u001b[0mfind_element\u001b[0m\u001b[0;34m(\u001b[0m\u001b[0mself\u001b[0m\u001b[0;34m,\u001b[0m \u001b[0mby\u001b[0m\u001b[0;34m=\u001b[0m\u001b[0mBy\u001b[0m\u001b[0;34m.\u001b[0m\u001b[0mID\u001b[0m\u001b[0;34m,\u001b[0m \u001b[0mvalue\u001b[0m\u001b[0;34m=\u001b[0m\u001b[0;32mNone\u001b[0m\u001b[0;34m)\u001b[0m\u001b[0;34m:\u001b[0m\u001b[0;34m\u001b[0m\u001b[0;34m\u001b[0m\u001b[0m\n",
      "\u001b[0;32m~/anaconda3/lib/python3.9/site-packages/selenium/webdriver/remote/webdriver.py\u001b[0m in \u001b[0;36mexecute\u001b[0;34m(self, driver_command, params)\u001b[0m\n\u001b[1;32m    422\u001b[0m         \u001b[0mresponse\u001b[0m \u001b[0;34m=\u001b[0m \u001b[0mself\u001b[0m\u001b[0;34m.\u001b[0m\u001b[0mcommand_executor\u001b[0m\u001b[0;34m.\u001b[0m\u001b[0mexecute\u001b[0m\u001b[0;34m(\u001b[0m\u001b[0mdriver_command\u001b[0m\u001b[0;34m,\u001b[0m \u001b[0mparams\u001b[0m\u001b[0;34m)\u001b[0m\u001b[0;34m\u001b[0m\u001b[0;34m\u001b[0m\u001b[0m\n\u001b[1;32m    423\u001b[0m         \u001b[0;32mif\u001b[0m \u001b[0mresponse\u001b[0m\u001b[0;34m:\u001b[0m\u001b[0;34m\u001b[0m\u001b[0;34m\u001b[0m\u001b[0m\n\u001b[0;32m--> 424\u001b[0;31m             \u001b[0mself\u001b[0m\u001b[0;34m.\u001b[0m\u001b[0merror_handler\u001b[0m\u001b[0;34m.\u001b[0m\u001b[0mcheck_response\u001b[0m\u001b[0;34m(\u001b[0m\u001b[0mresponse\u001b[0m\u001b[0;34m)\u001b[0m\u001b[0;34m\u001b[0m\u001b[0;34m\u001b[0m\u001b[0m\n\u001b[0m\u001b[1;32m    425\u001b[0m             response['value'] = self._unwrap_value(\n\u001b[1;32m    426\u001b[0m                 response.get('value', None))\n",
      "\u001b[0;32m~/anaconda3/lib/python3.9/site-packages/selenium/webdriver/remote/errorhandler.py\u001b[0m in \u001b[0;36mcheck_response\u001b[0;34m(self, response)\u001b[0m\n\u001b[1;32m    245\u001b[0m                 \u001b[0malert_text\u001b[0m \u001b[0;34m=\u001b[0m \u001b[0mvalue\u001b[0m\u001b[0;34m[\u001b[0m\u001b[0;34m'alert'\u001b[0m\u001b[0;34m]\u001b[0m\u001b[0;34m.\u001b[0m\u001b[0mget\u001b[0m\u001b[0;34m(\u001b[0m\u001b[0;34m'text'\u001b[0m\u001b[0;34m)\u001b[0m\u001b[0;34m\u001b[0m\u001b[0;34m\u001b[0m\u001b[0m\n\u001b[1;32m    246\u001b[0m             \u001b[0;32mraise\u001b[0m \u001b[0mexception_class\u001b[0m\u001b[0;34m(\u001b[0m\u001b[0mmessage\u001b[0m\u001b[0;34m,\u001b[0m \u001b[0mscreen\u001b[0m\u001b[0;34m,\u001b[0m \u001b[0mstacktrace\u001b[0m\u001b[0;34m,\u001b[0m \u001b[0malert_text\u001b[0m\u001b[0;34m)\u001b[0m  \u001b[0;31m# type: ignore[call-arg]  # mypy is not smart enough here\u001b[0m\u001b[0;34m\u001b[0m\u001b[0;34m\u001b[0m\u001b[0m\n\u001b[0;32m--> 247\u001b[0;31m         \u001b[0;32mraise\u001b[0m \u001b[0mexception_class\u001b[0m\u001b[0;34m(\u001b[0m\u001b[0mmessage\u001b[0m\u001b[0;34m,\u001b[0m \u001b[0mscreen\u001b[0m\u001b[0;34m,\u001b[0m \u001b[0mstacktrace\u001b[0m\u001b[0;34m)\u001b[0m\u001b[0;34m\u001b[0m\u001b[0;34m\u001b[0m\u001b[0m\n\u001b[0m\u001b[1;32m    248\u001b[0m \u001b[0;34m\u001b[0m\u001b[0m\n\u001b[1;32m    249\u001b[0m     \u001b[0;32mdef\u001b[0m \u001b[0m_value_or_default\u001b[0m\u001b[0;34m(\u001b[0m\u001b[0mself\u001b[0m\u001b[0;34m,\u001b[0m \u001b[0mobj\u001b[0m\u001b[0;34m:\u001b[0m \u001b[0mMapping\u001b[0m\u001b[0;34m[\u001b[0m\u001b[0m_KT\u001b[0m\u001b[0;34m,\u001b[0m \u001b[0m_VT\u001b[0m\u001b[0;34m]\u001b[0m\u001b[0;34m,\u001b[0m \u001b[0mkey\u001b[0m\u001b[0;34m:\u001b[0m \u001b[0m_KT\u001b[0m\u001b[0;34m,\u001b[0m \u001b[0mdefault\u001b[0m\u001b[0;34m:\u001b[0m \u001b[0m_VT\u001b[0m\u001b[0;34m)\u001b[0m \u001b[0;34m->\u001b[0m \u001b[0m_VT\u001b[0m\u001b[0;34m:\u001b[0m\u001b[0;34m\u001b[0m\u001b[0;34m\u001b[0m\u001b[0m\n",
      "\u001b[0;31mStaleElementReferenceException\u001b[0m: Message: stale element reference: element is not attached to the page document\n  (Session info: chrome=99.0.4844.51)\nStacktrace:\n#0 0x55fae43807d3 <unknown>\n#1 0x55fae40dc688 <unknown>\n#2 0x55fae40df477 <unknown>\n#3 0x55fae40df316 <unknown>\n#4 0x55fae40df5dc <unknown>\n#5 0x55fae41137c5 <unknown>\n#6 0x55fae41138a0 <unknown>\n#7 0x55fae410a8ea <unknown>\n#8 0x55fae41306b2 <unknown>\n#9 0x55fae41072c3 <unknown>\n#10 0x55fae41307be <unknown>\n#11 0x55fae4143a0c <unknown>\n#12 0x55fae41305a3 <unknown>\n#13 0x55fae4105ddc <unknown>\n#14 0x55fae4106de5 <unknown>\n#15 0x55fae43b149d <unknown>\n#16 0x55fae43ca60c <unknown>\n#17 0x55fae43b3205 <unknown>\n#18 0x55fae43caee5 <unknown>\n#19 0x55fae43a7070 <unknown>\n#20 0x55fae43e6488 <unknown>\n#21 0x55fae43e660c <unknown>\n#22 0x55fae43ffc6d <unknown>\n#23 0x7f7864e03609 <unknown>\n"
     ]
    }
   ],
   "source": [
    "keyword = search_bars[0]\n",
    "keyword.clear()\n",
    "keyword.send_keys(\"Data Science\")\n",
    "keyword.send_keys(Keys.RETURN)\n",
    "keyword.send_keys(Keys.RETURN)\n",
    "# time.sleep(2)"
   ]
  },
  {
   "cell_type": "code",
   "execution_count": 114,
   "id": "9d5cdfd3-fbe5-404b-a1a7-9943ce9c83c3",
   "metadata": {},
   "outputs": [],
   "source": [
    "temp = driver.page_source\n",
    "soup = BeautifulSoup(driver.page_source, 'html.parser')\n"
   ]
  },
  {
   "cell_type": "code",
   "execution_count": 115,
   "id": "8d7245b2-2ea3-48e8-93db-ed29d1d68993",
   "metadata": {},
   "outputs": [],
   "source": [
    "jobparser = soup.find_all('div' , 'flex-grow-1 artdeco-entity-lockup__content ember-view') # return list"
   ]
  },
  {
   "cell_type": "code",
   "execution_count": 116,
   "id": "e06ccc43-a62a-4787-a37a-4989b99212af",
   "metadata": {},
   "outputs": [
    {
     "data": {
      "text/plain": [
       "8"
      ]
     },
     "execution_count": 116,
     "metadata": {},
     "output_type": "execute_result"
    }
   ],
   "source": [
    "len(jobparser) # page scroll down"
   ]
  },
  {
   "cell_type": "code",
   "execution_count": 117,
   "id": "11fdc47b-ba3f-4d2b-a59a-0050bf228938",
   "metadata": {},
   "outputs": [
    {
     "name": "stdout",
     "output_type": "stream",
     "text": [
      "/jobs/view/2966254176/?eBP=JOB_SEARCH_ORGANIC&recommendedFlavor=ACTIVELY_HIRING_COMPANY&refId=uPS200gpm%2Bfe5M%2BadcwTdA%3D%3D&trackingId=cpqEx28AHd%2BNzU50d0JbEQ%3D%3D&trk=flagship3_search_srp_jobs \n",
      "\n",
      "https://www.linkedin.com//jobs/view/2966254176/?eBP=JOB_SEARCH_ORGANIC&recommendedFlavor=ACTIVELY_HIRING_COMPANY&refId=uPS200gpm%2Bfe5M%2BadcwTdA%3D%3D&trackingId=cpqEx28AHd%2BNzU50d0JbEQ%3D%3D&trk=flagship3_search_srp_jobs \n",
      "\n",
      "/jobs/view/2968883748/?eBP=JOB_SEARCH_ORGANIC&refId=uPS200gpm%2Bfe5M%2BadcwTdA%3D%3D&trackingId=X30UaGYXGMos7KBNQ8IXoA%3D%3D&trk=flagship3_search_srp_jobs \n",
      "\n",
      "https://www.linkedin.com//jobs/view/2968883748/?eBP=JOB_SEARCH_ORGANIC&refId=uPS200gpm%2Bfe5M%2BadcwTdA%3D%3D&trackingId=X30UaGYXGMos7KBNQ8IXoA%3D%3D&trk=flagship3_search_srp_jobs \n",
      "\n",
      "/jobs/view/2960671549/?eBP=JOB_SEARCH_ORGANIC&recommendedFlavor=JOB_SEEKER_QUALIFIED&refId=uPS200gpm%2Bfe5M%2BadcwTdA%3D%3D&trackingId=p9GJhbMnXRuzGN0Kymfmtw%3D%3D&trk=flagship3_search_srp_jobs \n",
      "\n",
      "https://www.linkedin.com//jobs/view/2960671549/?eBP=JOB_SEARCH_ORGANIC&recommendedFlavor=JOB_SEEKER_QUALIFIED&refId=uPS200gpm%2Bfe5M%2BadcwTdA%3D%3D&trackingId=p9GJhbMnXRuzGN0Kymfmtw%3D%3D&trk=flagship3_search_srp_jobs \n",
      "\n",
      "/jobs/view/2969299823/?eBP=JOB_SEARCH_ORGANIC&recommendedFlavor=ACTIVELY_HIRING_COMPANY&refId=uPS200gpm%2Bfe5M%2BadcwTdA%3D%3D&trackingId=4afH25uA8C22zF8tq2LePg%3D%3D&trk=flagship3_search_srp_jobs \n",
      "\n",
      "https://www.linkedin.com//jobs/view/2969299823/?eBP=JOB_SEARCH_ORGANIC&recommendedFlavor=ACTIVELY_HIRING_COMPANY&refId=uPS200gpm%2Bfe5M%2BadcwTdA%3D%3D&trackingId=4afH25uA8C22zF8tq2LePg%3D%3D&trk=flagship3_search_srp_jobs \n",
      "\n",
      "/jobs/view/2965150233/?eBP=JOB_SEARCH_ORGANIC&recommendedFlavor=ACTIVELY_HIRING_COMPANY&refId=uPS200gpm%2Bfe5M%2BadcwTdA%3D%3D&trackingId=DVRQaV8%2BWOKzxZV%2BU77FpA%3D%3D&trk=flagship3_search_srp_jobs \n",
      "\n",
      "https://www.linkedin.com//jobs/view/2965150233/?eBP=JOB_SEARCH_ORGANIC&recommendedFlavor=ACTIVELY_HIRING_COMPANY&refId=uPS200gpm%2Bfe5M%2BadcwTdA%3D%3D&trackingId=DVRQaV8%2BWOKzxZV%2BU77FpA%3D%3D&trk=flagship3_search_srp_jobs \n",
      "\n",
      "/jobs/view/2964479696/?eBP=JOB_SEARCH_ORGANIC&recommendedFlavor=ACTIVELY_HIRING_COMPANY&refId=uPS200gpm%2Bfe5M%2BadcwTdA%3D%3D&trackingId=MY4A5KcuFplqyu8EaJAntQ%3D%3D&trk=flagship3_search_srp_jobs \n",
      "\n",
      "https://www.linkedin.com//jobs/view/2964479696/?eBP=JOB_SEARCH_ORGANIC&recommendedFlavor=ACTIVELY_HIRING_COMPANY&refId=uPS200gpm%2Bfe5M%2BadcwTdA%3D%3D&trackingId=MY4A5KcuFplqyu8EaJAntQ%3D%3D&trk=flagship3_search_srp_jobs \n",
      "\n",
      "/jobs/view/2953602060/?eBP=JOB_SEARCH_ORGANIC&recommendedFlavor=ACTIVELY_HIRING_COMPANY&refId=uPS200gpm%2Bfe5M%2BadcwTdA%3D%3D&trackingId=E4QGeFJBkRE8%2Bb2ktDT5uA%3D%3D&trk=flagship3_search_srp_jobs \n",
      "\n",
      "https://www.linkedin.com//jobs/view/2953602060/?eBP=JOB_SEARCH_ORGANIC&recommendedFlavor=ACTIVELY_HIRING_COMPANY&refId=uPS200gpm%2Bfe5M%2BadcwTdA%3D%3D&trackingId=E4QGeFJBkRE8%2Bb2ktDT5uA%3D%3D&trk=flagship3_search_srp_jobs \n",
      "\n",
      "/jobs/view/2953643551/?eBP=JOB_SEARCH_ORGANIC&refId=uPS200gpm%2Bfe5M%2BadcwTdA%3D%3D&trackingId=SLpPrNYfFrNFQ1oifW%2BW0Q%3D%3D&trk=flagship3_search_srp_jobs \n",
      "\n",
      "https://www.linkedin.com//jobs/view/2953643551/?eBP=JOB_SEARCH_ORGANIC&refId=uPS200gpm%2Bfe5M%2BadcwTdA%3D%3D&trackingId=SLpPrNYfFrNFQ1oifW%2BW0Q%3D%3D&trk=flagship3_search_srp_jobs \n",
      "\n"
     ]
    }
   ],
   "source": [
    "for job in range(0,len(jobparser)):\n",
    "    link = 'https://www.linkedin.com/'+ str(jobparser[job].div.a.get('href')) \n",
    "    print(link , \"\\n\")\n",
    "    driver.get(link)\n",
    "    time.sleep(5)"
   ]
  },
  {
   "cell_type": "code",
   "execution_count": 78,
   "id": "c8febea3-fb24-49d2-a723-d2b526f78f6a",
   "metadata": {},
   "outputs": [
    {
     "ename": "NameError",
     "evalue": "name 'dfiv' is not defined",
     "output_type": "error",
     "traceback": [
      "\u001b[0;31m---------------------------------------------------------------------------\u001b[0m",
      "\u001b[0;31mNameError\u001b[0m                                 Traceback (most recent call last)",
      "\u001b[0;32m/tmp/ipykernel_98785/847329051.py\u001b[0m in \u001b[0;36m<module>\u001b[0;34m\u001b[0m\n\u001b[0;32m----> 1\u001b[0;31m \u001b[0mdfiv\u001b[0m\u001b[0;34m\u001b[0m\u001b[0;34m\u001b[0m\u001b[0m\n\u001b[0m",
      "\u001b[0;31mNameError\u001b[0m: name 'dfiv' is not defined"
     ]
    }
   ],
   "source": []
  },
  {
   "cell_type": "code",
   "execution_count": null,
   "id": "ce9e4705-c65b-4ecc-a63c-cbf9b3fba89e",
   "metadata": {},
   "outputs": [],
   "source": []
  }
 ],
 "metadata": {
  "kernelspec": {
   "display_name": "Python 3 (ipykernel)",
   "language": "python",
   "name": "python3"
  },
  "language_info": {
   "codemirror_mode": {
    "name": "ipython",
    "version": 3
   },
   "file_extension": ".py",
   "mimetype": "text/x-python",
   "name": "python",
   "nbconvert_exporter": "python",
   "pygments_lexer": "ipython3",
   "version": "3.9.7"
  }
 },
 "nbformat": 4,
 "nbformat_minor": 5
}
