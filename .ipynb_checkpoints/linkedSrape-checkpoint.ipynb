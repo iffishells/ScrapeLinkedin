{
 "cells": [
  {
   "cell_type": "code",
   "execution_count": 89,
   "id": "7897f712-13e9-4367-8a22-154f46c63024",
   "metadata": {},
   "outputs": [],
   "source": [
    "import numpy as np\n",
    "import pandas as pd\n",
    "from selenium import webdriver\n",
    "import time\n",
    "from selenium.webdriver.common.keys import Keys\n",
    "\n",
    "\n",
    "# wati untill event is clickable\n",
    "from selenium.webdriver.support.wait import WebDriverWait \n",
    "\n",
    "# expected condition\n",
    "from selenium.webdriver.support import expected_conditions as EC\n",
    "\n",
    "from selenium.webdriver.common.by import By\n",
    "from bs4 import BeautifulSoup\n"
   ]
  },
  {
   "cell_type": "code",
   "execution_count": 90,
   "id": "e14132ac-135f-4c3a-9573-f0456f2c288f",
   "metadata": {},
   "outputs": [
    {
     "name": "stderr",
     "output_type": "stream",
     "text": [
      "/tmp/ipykernel_249833/633491026.py:1: DeprecationWarning: executable_path has been deprecated, please pass in a Service object\n",
      "  driver = webdriver.Chrome('chromedriver_linux64/chromedriver')\n",
      "/tmp/ipykernel_249833/633491026.py:14: DeprecationWarning: find_element_by_* commands are deprecated. Please use find_element() instead\n",
      "  submit = driver.find_element_by_xpath(\"//button[@type ='submit']\").click()\n"
     ]
    }
   ],
   "source": [
    "driver = webdriver.Chrome('chromedriver_linux64/chromedriver')\n",
    "driver.get('https://www.linkedin.com/login?fromSignIn=true&trk=guest_homepage-basic_nav-header-signin')\n",
    "# driver.find_element_by_class_name('nav__button-secondary').click()\n",
    "username = WebDriverWait(driver, 10).until(EC.presence_of_element_located((By.ID, \"username\")))\n",
    "username.clear()\n",
    "username.send_keys(\"mail\")\n",
    "time.sleep(2)\n",
    "\n",
    "password = WebDriverWait(driver, 10).until(EC.presence_of_element_located((By.ID, \"password\")))\n",
    "password.send_keys(\"passord\")\n",
    "time.sleep(2)\n",
    "\n",
    "\n",
    "submit = driver.find_element_by_xpath(\"//button[@type ='submit']\").click()\n",
    "\n",
    "\n"
   ]
  },
  {
   "cell_type": "code",
   "execution_count": 91,
   "id": "66f63e70-8ae5-4f3f-8b77-7ea0a29d4a30",
   "metadata": {},
   "outputs": [
    {
     "name": "stdout",
     "output_type": "stream",
     "text": [
      "[<selenium.webdriver.remote.webelement.WebElement (session=\"316d91e9ac04451af81e0e70d1a48e90\", element=\"44dfcf07-3717-48d4-9b09-c21493f3752d\")>, <selenium.webdriver.remote.webelement.WebElement (session=\"316d91e9ac04451af81e0e70d1a48e90\", element=\"bcb42e57-95b3-49e3-9b8a-2ae8d495461e\")>, <selenium.webdriver.remote.webelement.WebElement (session=\"316d91e9ac04451af81e0e70d1a48e90\", element=\"69acfb6f-c5c9-4442-b554-dc6df648b3b5\")>, <selenium.webdriver.remote.webelement.WebElement (session=\"316d91e9ac04451af81e0e70d1a48e90\", element=\"edc20813-33a3-4aa3-9e05-861c2444cf72\")>, <selenium.webdriver.remote.webelement.WebElement (session=\"316d91e9ac04451af81e0e70d1a48e90\", element=\"004b1fe5-141f-4925-8e24-4946d788cfff\")>]\n"
     ]
    },
    {
     "name": "stderr",
     "output_type": "stream",
     "text": [
      "/tmp/ipykernel_249833/3989715111.py:4: DeprecationWarning: find_elements_by_* commands are deprecated. Please use find_elements() instead\n",
      "  search_bars = driver.find_elements_by_class_name('jobs-search-box__text-input')\n"
     ]
    }
   ],
   "source": [
    "time.sleep(2)\n",
    "jobs = driver.get(\"https://www.linkedin.com/jobs/\")\n",
    "\n",
    "search_bars = driver.find_elements_by_class_name('jobs-search-box__text-input')\n",
    "print(search_bars)"
   ]
  },
  {
   "cell_type": "code",
   "execution_count": 93,
   "id": "f3a7c00f-b797-472d-8144-bc8eda21e2d5",
   "metadata": {},
   "outputs": [
    {
     "ename": "StaleElementReferenceException",
     "evalue": "Message: stale element reference: element is not attached to the page document\n  (Session info: chrome=99.0.4844.74)\nStacktrace:\n#0 0x5581e5fde7d3 <unknown>\n#1 0x5581e5d3a688 <unknown>\n#2 0x5581e5d3d477 <unknown>\n#3 0x5581e5d3d316 <unknown>\n#4 0x5581e5d3d5dc <unknown>\n#5 0x5581e5d717c5 <unknown>\n#6 0x5581e5d718a0 <unknown>\n#7 0x5581e5d688ea <unknown>\n#8 0x5581e5d8e6b2 <unknown>\n#9 0x5581e5d652c3 <unknown>\n#10 0x5581e5d8e7be <unknown>\n#11 0x5581e5da1a0c <unknown>\n#12 0x5581e5d8e5a3 <unknown>\n#13 0x5581e5d63ddc <unknown>\n#14 0x5581e5d64de5 <unknown>\n#15 0x5581e600f49d <unknown>\n#16 0x5581e602860c <unknown>\n#17 0x5581e6011205 <unknown>\n#18 0x5581e6028ee5 <unknown>\n#19 0x5581e6005070 <unknown>\n#20 0x5581e6044488 <unknown>\n#21 0x5581e604460c <unknown>\n#22 0x5581e605dc6d <unknown>\n#23 0x7fae045fe609 <unknown>\n",
     "output_type": "error",
     "traceback": [
      "\u001b[0;31m---------------------------------------------------------------------------\u001b[0m",
      "\u001b[0;31mStaleElementReferenceException\u001b[0m            Traceback (most recent call last)",
      "\u001b[0;32m/tmp/ipykernel_249833/3464348973.py\u001b[0m in \u001b[0;36m<module>\u001b[0;34m\u001b[0m\n\u001b[1;32m      2\u001b[0m \u001b[0mkeyword\u001b[0m\u001b[0;34m.\u001b[0m\u001b[0mclear\u001b[0m\u001b[0;34m(\u001b[0m\u001b[0;34m)\u001b[0m\u001b[0;34m\u001b[0m\u001b[0;34m\u001b[0m\u001b[0m\n\u001b[1;32m      3\u001b[0m \u001b[0mkeyword\u001b[0m\u001b[0;34m.\u001b[0m\u001b[0msend_keys\u001b[0m\u001b[0;34m(\u001b[0m\u001b[0;34m\"Python Developer\"\u001b[0m\u001b[0;34m)\u001b[0m\u001b[0;34m\u001b[0m\u001b[0;34m\u001b[0m\u001b[0m\n\u001b[0;32m----> 4\u001b[0;31m \u001b[0mkeyword\u001b[0m\u001b[0;34m.\u001b[0m\u001b[0msend_keys\u001b[0m\u001b[0;34m(\u001b[0m\u001b[0mKeys\u001b[0m\u001b[0;34m.\u001b[0m\u001b[0mRETURN\u001b[0m\u001b[0;34m)\u001b[0m\u001b[0;34m\u001b[0m\u001b[0;34m\u001b[0m\u001b[0m\n\u001b[0m\u001b[1;32m      5\u001b[0m \u001b[0mkeyword\u001b[0m\u001b[0;34m.\u001b[0m\u001b[0msend_keys\u001b[0m\u001b[0;34m(\u001b[0m\u001b[0mKeys\u001b[0m\u001b[0;34m.\u001b[0m\u001b[0mRETURN\u001b[0m\u001b[0;34m)\u001b[0m\u001b[0;34m\u001b[0m\u001b[0;34m\u001b[0m\u001b[0m\n\u001b[1;32m      6\u001b[0m \u001b[0;31m# time.sleep(2)\u001b[0m\u001b[0;34m\u001b[0m\u001b[0;34m\u001b[0m\u001b[0m\n",
      "\u001b[0;32m~/anaconda3/lib/python3.9/site-packages/selenium/webdriver/remote/webelement.py\u001b[0m in \u001b[0;36msend_keys\u001b[0;34m(self, *value)\u001b[0m\n\u001b[1;32m    538\u001b[0m                 \u001b[0mvalue\u001b[0m \u001b[0;34m=\u001b[0m \u001b[0;34m'\\n'\u001b[0m\u001b[0;34m.\u001b[0m\u001b[0mjoin\u001b[0m\u001b[0;34m(\u001b[0m\u001b[0mremote_files\u001b[0m\u001b[0;34m)\u001b[0m\u001b[0;34m\u001b[0m\u001b[0;34m\u001b[0m\u001b[0m\n\u001b[1;32m    539\u001b[0m \u001b[0;34m\u001b[0m\u001b[0m\n\u001b[0;32m--> 540\u001b[0;31m         self._execute(Command.SEND_KEYS_TO_ELEMENT,\n\u001b[0m\u001b[1;32m    541\u001b[0m                       {'text': \"\".join(keys_to_typing(value)),\n\u001b[1;32m    542\u001b[0m                        'value': keys_to_typing(value)})\n",
      "\u001b[0;32m~/anaconda3/lib/python3.9/site-packages/selenium/webdriver/remote/webelement.py\u001b[0m in \u001b[0;36m_execute\u001b[0;34m(self, command, params)\u001b[0m\n\u001b[1;32m    708\u001b[0m             \u001b[0mparams\u001b[0m \u001b[0;34m=\u001b[0m \u001b[0;34m{\u001b[0m\u001b[0;34m}\u001b[0m\u001b[0;34m\u001b[0m\u001b[0;34m\u001b[0m\u001b[0m\n\u001b[1;32m    709\u001b[0m         \u001b[0mparams\u001b[0m\u001b[0;34m[\u001b[0m\u001b[0;34m'id'\u001b[0m\u001b[0;34m]\u001b[0m \u001b[0;34m=\u001b[0m \u001b[0mself\u001b[0m\u001b[0;34m.\u001b[0m\u001b[0m_id\u001b[0m\u001b[0;34m\u001b[0m\u001b[0;34m\u001b[0m\u001b[0m\n\u001b[0;32m--> 710\u001b[0;31m         \u001b[0;32mreturn\u001b[0m \u001b[0mself\u001b[0m\u001b[0;34m.\u001b[0m\u001b[0m_parent\u001b[0m\u001b[0;34m.\u001b[0m\u001b[0mexecute\u001b[0m\u001b[0;34m(\u001b[0m\u001b[0mcommand\u001b[0m\u001b[0;34m,\u001b[0m \u001b[0mparams\u001b[0m\u001b[0;34m)\u001b[0m\u001b[0;34m\u001b[0m\u001b[0;34m\u001b[0m\u001b[0m\n\u001b[0m\u001b[1;32m    711\u001b[0m \u001b[0;34m\u001b[0m\u001b[0m\n\u001b[1;32m    712\u001b[0m     \u001b[0;32mdef\u001b[0m \u001b[0mfind_element\u001b[0m\u001b[0;34m(\u001b[0m\u001b[0mself\u001b[0m\u001b[0;34m,\u001b[0m \u001b[0mby\u001b[0m\u001b[0;34m=\u001b[0m\u001b[0mBy\u001b[0m\u001b[0;34m.\u001b[0m\u001b[0mID\u001b[0m\u001b[0;34m,\u001b[0m \u001b[0mvalue\u001b[0m\u001b[0;34m=\u001b[0m\u001b[0;32mNone\u001b[0m\u001b[0;34m)\u001b[0m\u001b[0;34m:\u001b[0m\u001b[0;34m\u001b[0m\u001b[0;34m\u001b[0m\u001b[0m\n",
      "\u001b[0;32m~/anaconda3/lib/python3.9/site-packages/selenium/webdriver/remote/webdriver.py\u001b[0m in \u001b[0;36mexecute\u001b[0;34m(self, driver_command, params)\u001b[0m\n\u001b[1;32m    422\u001b[0m         \u001b[0mresponse\u001b[0m \u001b[0;34m=\u001b[0m \u001b[0mself\u001b[0m\u001b[0;34m.\u001b[0m\u001b[0mcommand_executor\u001b[0m\u001b[0;34m.\u001b[0m\u001b[0mexecute\u001b[0m\u001b[0;34m(\u001b[0m\u001b[0mdriver_command\u001b[0m\u001b[0;34m,\u001b[0m \u001b[0mparams\u001b[0m\u001b[0;34m)\u001b[0m\u001b[0;34m\u001b[0m\u001b[0;34m\u001b[0m\u001b[0m\n\u001b[1;32m    423\u001b[0m         \u001b[0;32mif\u001b[0m \u001b[0mresponse\u001b[0m\u001b[0;34m:\u001b[0m\u001b[0;34m\u001b[0m\u001b[0;34m\u001b[0m\u001b[0m\n\u001b[0;32m--> 424\u001b[0;31m             \u001b[0mself\u001b[0m\u001b[0;34m.\u001b[0m\u001b[0merror_handler\u001b[0m\u001b[0;34m.\u001b[0m\u001b[0mcheck_response\u001b[0m\u001b[0;34m(\u001b[0m\u001b[0mresponse\u001b[0m\u001b[0;34m)\u001b[0m\u001b[0;34m\u001b[0m\u001b[0;34m\u001b[0m\u001b[0m\n\u001b[0m\u001b[1;32m    425\u001b[0m             response['value'] = self._unwrap_value(\n\u001b[1;32m    426\u001b[0m                 response.get('value', None))\n",
      "\u001b[0;32m~/anaconda3/lib/python3.9/site-packages/selenium/webdriver/remote/errorhandler.py\u001b[0m in \u001b[0;36mcheck_response\u001b[0;34m(self, response)\u001b[0m\n\u001b[1;32m    245\u001b[0m                 \u001b[0malert_text\u001b[0m \u001b[0;34m=\u001b[0m \u001b[0mvalue\u001b[0m\u001b[0;34m[\u001b[0m\u001b[0;34m'alert'\u001b[0m\u001b[0;34m]\u001b[0m\u001b[0;34m.\u001b[0m\u001b[0mget\u001b[0m\u001b[0;34m(\u001b[0m\u001b[0;34m'text'\u001b[0m\u001b[0;34m)\u001b[0m\u001b[0;34m\u001b[0m\u001b[0;34m\u001b[0m\u001b[0m\n\u001b[1;32m    246\u001b[0m             \u001b[0;32mraise\u001b[0m \u001b[0mexception_class\u001b[0m\u001b[0;34m(\u001b[0m\u001b[0mmessage\u001b[0m\u001b[0;34m,\u001b[0m \u001b[0mscreen\u001b[0m\u001b[0;34m,\u001b[0m \u001b[0mstacktrace\u001b[0m\u001b[0;34m,\u001b[0m \u001b[0malert_text\u001b[0m\u001b[0;34m)\u001b[0m  \u001b[0;31m# type: ignore[call-arg]  # mypy is not smart enough here\u001b[0m\u001b[0;34m\u001b[0m\u001b[0;34m\u001b[0m\u001b[0m\n\u001b[0;32m--> 247\u001b[0;31m         \u001b[0;32mraise\u001b[0m \u001b[0mexception_class\u001b[0m\u001b[0;34m(\u001b[0m\u001b[0mmessage\u001b[0m\u001b[0;34m,\u001b[0m \u001b[0mscreen\u001b[0m\u001b[0;34m,\u001b[0m \u001b[0mstacktrace\u001b[0m\u001b[0;34m)\u001b[0m\u001b[0;34m\u001b[0m\u001b[0;34m\u001b[0m\u001b[0m\n\u001b[0m\u001b[1;32m    248\u001b[0m \u001b[0;34m\u001b[0m\u001b[0m\n\u001b[1;32m    249\u001b[0m     \u001b[0;32mdef\u001b[0m \u001b[0m_value_or_default\u001b[0m\u001b[0;34m(\u001b[0m\u001b[0mself\u001b[0m\u001b[0;34m,\u001b[0m \u001b[0mobj\u001b[0m\u001b[0;34m:\u001b[0m \u001b[0mMapping\u001b[0m\u001b[0;34m[\u001b[0m\u001b[0m_KT\u001b[0m\u001b[0;34m,\u001b[0m \u001b[0m_VT\u001b[0m\u001b[0;34m]\u001b[0m\u001b[0;34m,\u001b[0m \u001b[0mkey\u001b[0m\u001b[0;34m:\u001b[0m \u001b[0m_KT\u001b[0m\u001b[0;34m,\u001b[0m \u001b[0mdefault\u001b[0m\u001b[0;34m:\u001b[0m \u001b[0m_VT\u001b[0m\u001b[0;34m)\u001b[0m \u001b[0;34m->\u001b[0m \u001b[0m_VT\u001b[0m\u001b[0;34m:\u001b[0m\u001b[0;34m\u001b[0m\u001b[0;34m\u001b[0m\u001b[0m\n",
      "\u001b[0;31mStaleElementReferenceException\u001b[0m: Message: stale element reference: element is not attached to the page document\n  (Session info: chrome=99.0.4844.74)\nStacktrace:\n#0 0x5581e5fde7d3 <unknown>\n#1 0x5581e5d3a688 <unknown>\n#2 0x5581e5d3d477 <unknown>\n#3 0x5581e5d3d316 <unknown>\n#4 0x5581e5d3d5dc <unknown>\n#5 0x5581e5d717c5 <unknown>\n#6 0x5581e5d718a0 <unknown>\n#7 0x5581e5d688ea <unknown>\n#8 0x5581e5d8e6b2 <unknown>\n#9 0x5581e5d652c3 <unknown>\n#10 0x5581e5d8e7be <unknown>\n#11 0x5581e5da1a0c <unknown>\n#12 0x5581e5d8e5a3 <unknown>\n#13 0x5581e5d63ddc <unknown>\n#14 0x5581e5d64de5 <unknown>\n#15 0x5581e600f49d <unknown>\n#16 0x5581e602860c <unknown>\n#17 0x5581e6011205 <unknown>\n#18 0x5581e6028ee5 <unknown>\n#19 0x5581e6005070 <unknown>\n#20 0x5581e6044488 <unknown>\n#21 0x5581e604460c <unknown>\n#22 0x5581e605dc6d <unknown>\n#23 0x7fae045fe609 <unknown>\n"
     ]
    }
   ],
   "source": [
    "keyword = search_bars[0]\n",
    "keyword.clear()\n",
    "keyword.send_keys(\"Python Developer\")\n",
    "keyword.send_keys(Keys.RETURN)\n",
    "keyword.send_keys(Keys.RETURN)\n",
    "# time.sleep(2)"
   ]
  },
  {
   "cell_type": "code",
   "execution_count": 94,
   "id": "9d5cdfd3-fbe5-404b-a1a7-9943ce9c83c3",
   "metadata": {},
   "outputs": [],
   "source": [
    "# temp = driver.page_source\n",
    "soup = BeautifulSoup(driver.page_source, 'html.parser')\n"
   ]
  },
  {
   "cell_type": "code",
   "execution_count": 95,
   "id": "8d7245b2-2ea3-48e8-93db-ed29d1d68993",
   "metadata": {},
   "outputs": [],
   "source": [
    "jobparser = soup.find_all('div' , 'flex-grow-1 artdeco-entity-lockup__content ember-view') # return list"
   ]
  },
  {
   "cell_type": "code",
   "execution_count": 96,
   "id": "e06ccc43-a62a-4787-a37a-4989b99212af",
   "metadata": {},
   "outputs": [
    {
     "data": {
      "text/plain": [
       "8"
      ]
     },
     "execution_count": 96,
     "metadata": {},
     "output_type": "execute_result"
    }
   ],
   "source": [
    "len(jobparser) # page scroll down"
   ]
  },
  {
   "cell_type": "code",
   "execution_count": 121,
   "id": "11fdc47b-ba3f-4d2b-a59a-0050bf228938",
   "metadata": {},
   "outputs": [],
   "source": [
    "Database = {\n",
    "    'JobTitle' : [],\n",
    "    'CompanyName' : [],\n",
    "    'location': [],\n",
    "    'link':[],\n",
    "    'space':[],\n",
    "    'experience':[]\n",
    "\n",
    "}\n",
    "\n",
    "for job in range(0,len(jobparser)):\n",
    "    link = 'https://www.linkedin.com/'+ str(jobparser[job].div.a.get('href')) \n",
    "    # print(link , \"\\n\")\n",
    "    driver.get(link)\n",
    "    time.sleep(2)\n",
    "    \n",
    "    JobDetail = driver.page_source\n",
    "    # print(JobDetail)\n",
    "    # JobDetai\n",
    "    \n",
    "    SoupJobParser = BeautifulSoup(JobDetail,'html.parser')\n",
    "    try:\n",
    "        CompanyName = SoupJobParser.find('div','p5').find('span','jobs-unified-top-card__company-name').a.get_text().strip()\n",
    "    except:\n",
    "        CompanyName = \"Not available\"\n",
    "        \n",
    "    try:\n",
    "        JobTitle = SoupJobParser.find('div','p5').h1.get_text().strip()\n",
    "    except:\n",
    "        JobTitle = \"Not available\"\n",
    "        \n",
    "    try:\n",
    "        location = SoupJobParser.find('span','jobs-unified-top-card__bullet').get_text().strip()    \n",
    "    except:\n",
    "        location = \"Not available\"\n",
    "    try:\n",
    "        space = SoupJobParser.find('span','jobs-unified-top-card__workplace-type').get_text().strip()\n",
    "    except:\n",
    "        space = \"Not available\"\n",
    "        \n",
    "    try:\n",
    "        # for searching experience requirement \n",
    "        experience = SoupJobParser.find('article','jobs-description__container').find('div','jobs-description__content').span.get_text().strip('\\n')\n",
    "    except:\n",
    "        experience =  \"Not available\"\n",
    "    \n",
    "    Database['CompanyName'].append(CompanyName)\n",
    "    Database['JobTitle'].append(JobTitle)\n",
    "    Database['location'].append(location)\n",
    "    Database['link'].append(link)\n",
    "    Database['space'].append(space)\n",
    "    Database['experience'].append(experience)\n",
    "    # break"
   ]
  },
  {
   "cell_type": "code",
   "execution_count": 122,
   "id": "c8febea3-fb24-49d2-a723-d2b526f78f6a",
   "metadata": {},
   "outputs": [
    {
     "data": {
      "text/html": [
       "<div>\n",
       "<style scoped>\n",
       "    .dataframe tbody tr th:only-of-type {\n",
       "        vertical-align: middle;\n",
       "    }\n",
       "\n",
       "    .dataframe tbody tr th {\n",
       "        vertical-align: top;\n",
       "    }\n",
       "\n",
       "    .dataframe thead th {\n",
       "        text-align: right;\n",
       "    }\n",
       "</style>\n",
       "<table border=\"1\" class=\"dataframe\">\n",
       "  <thead>\n",
       "    <tr style=\"text-align: right;\">\n",
       "      <th></th>\n",
       "      <th>JobTitle</th>\n",
       "      <th>CompanyName</th>\n",
       "      <th>location</th>\n",
       "      <th>link</th>\n",
       "      <th>space</th>\n",
       "      <th>experience</th>\n",
       "    </tr>\n",
       "  </thead>\n",
       "  <tbody>\n",
       "    <tr>\n",
       "      <th>0</th>\n",
       "      <td>Python Developer</td>\n",
       "      <td>Content Arcade</td>\n",
       "      <td>Faisalabad, Punjab, Pakistan</td>\n",
       "      <td>https://www.linkedin.com//jobs/view/2950181926...</td>\n",
       "      <td>On-site</td>\n",
       "      <td>Content Arcade is looking to hire a Python Dev...</td>\n",
       "    </tr>\n",
       "    <tr>\n",
       "      <th>1</th>\n",
       "      <td>L3 Backend Develoepr</td>\n",
       "      <td>Block360</td>\n",
       "      <td>Islāmābād, Pakistan</td>\n",
       "      <td>https://www.linkedin.com//jobs/view/2959281877...</td>\n",
       "      <td>Remote</td>\n",
       "      <td>About the opportunity We’re looking for experi...</td>\n",
       "    </tr>\n",
       "    <tr>\n",
       "      <th>2</th>\n",
       "      <td>Senior Python Developer</td>\n",
       "      <td>Green3b Inc</td>\n",
       "      <td>Lahore, Punjab, Pakistan</td>\n",
       "      <td>https://www.linkedin.com//jobs/view/2900664813...</td>\n",
       "      <td>Hybrid</td>\n",
       "      <td>We are a US Based IT consulting company lookin...</td>\n",
       "    </tr>\n",
       "    <tr>\n",
       "      <th>3</th>\n",
       "      <td>Back End Developer</td>\n",
       "      <td>AlphaSquad</td>\n",
       "      <td>Islamabad, Islāmābād, Pakistan</td>\n",
       "      <td>https://www.linkedin.com//jobs/view/2938134734...</td>\n",
       "      <td>On-site</td>\n",
       "      <td>Responsibilities:- Be detail-oriented, self-di...</td>\n",
       "    </tr>\n",
       "    <tr>\n",
       "      <th>4</th>\n",
       "      <td>Software Engineer I (DevOps)</td>\n",
       "      <td>Careem</td>\n",
       "      <td>Lahore, Punjab, Pakistan</td>\n",
       "      <td>https://www.linkedin.com//jobs/view/2972691312...</td>\n",
       "      <td>Not available</td>\n",
       "      <td>About Careem\\n\\nCareem is the internet platfor...</td>\n",
       "    </tr>\n",
       "    <tr>\n",
       "      <th>5</th>\n",
       "      <td>Lead Python Developer</td>\n",
       "      <td>Ignis Health</td>\n",
       "      <td>Pakistan</td>\n",
       "      <td>https://www.linkedin.com//jobs/view/2967055574...</td>\n",
       "      <td>Remote</td>\n",
       "      <td>Ignis Health is seeking to hire a full-stack S...</td>\n",
       "    </tr>\n",
       "    <tr>\n",
       "      <th>6</th>\n",
       "      <td>Python Developer</td>\n",
       "      <td>VENRUP</td>\n",
       "      <td>Lahore, Punjab, Pakistan</td>\n",
       "      <td>https://www.linkedin.com//jobs/view/2965150233...</td>\n",
       "      <td>Remote</td>\n",
       "      <td>About VENRUP:\\nVENRUP aims to provide premium ...</td>\n",
       "    </tr>\n",
       "    <tr>\n",
       "      <th>7</th>\n",
       "      <td>Back End Developer - PHP</td>\n",
       "      <td>Uforia Infotech Inc</td>\n",
       "      <td>Islāmābād, Pakistan</td>\n",
       "      <td>https://www.linkedin.com//jobs/view/2959452085...</td>\n",
       "      <td>On-site</td>\n",
       "      <td>We are an E-commerce solution provider company...</td>\n",
       "    </tr>\n",
       "  </tbody>\n",
       "</table>\n",
       "</div>"
      ],
      "text/plain": [
       "                       JobTitle          CompanyName  \\\n",
       "0              Python Developer       Content Arcade   \n",
       "1          L3 Backend Develoepr             Block360   \n",
       "2       Senior Python Developer          Green3b Inc   \n",
       "3            Back End Developer           AlphaSquad   \n",
       "4  Software Engineer I (DevOps)               Careem   \n",
       "5         Lead Python Developer         Ignis Health   \n",
       "6              Python Developer               VENRUP   \n",
       "7      Back End Developer - PHP  Uforia Infotech Inc   \n",
       "\n",
       "                         location  \\\n",
       "0    Faisalabad, Punjab, Pakistan   \n",
       "1             Islāmābād, Pakistan   \n",
       "2        Lahore, Punjab, Pakistan   \n",
       "3  Islamabad, Islāmābād, Pakistan   \n",
       "4        Lahore, Punjab, Pakistan   \n",
       "5                        Pakistan   \n",
       "6        Lahore, Punjab, Pakistan   \n",
       "7             Islāmābād, Pakistan   \n",
       "\n",
       "                                                link          space  \\\n",
       "0  https://www.linkedin.com//jobs/view/2950181926...        On-site   \n",
       "1  https://www.linkedin.com//jobs/view/2959281877...         Remote   \n",
       "2  https://www.linkedin.com//jobs/view/2900664813...         Hybrid   \n",
       "3  https://www.linkedin.com//jobs/view/2938134734...        On-site   \n",
       "4  https://www.linkedin.com//jobs/view/2972691312...  Not available   \n",
       "5  https://www.linkedin.com//jobs/view/2967055574...         Remote   \n",
       "6  https://www.linkedin.com//jobs/view/2965150233...         Remote   \n",
       "7  https://www.linkedin.com//jobs/view/2959452085...        On-site   \n",
       "\n",
       "                                          experience  \n",
       "0  Content Arcade is looking to hire a Python Dev...  \n",
       "1  About the opportunity We’re looking for experi...  \n",
       "2  We are a US Based IT consulting company lookin...  \n",
       "3  Responsibilities:- Be detail-oriented, self-di...  \n",
       "4  About Careem\\n\\nCareem is the internet platfor...  \n",
       "5  Ignis Health is seeking to hire a full-stack S...  \n",
       "6  About VENRUP:\\nVENRUP aims to provide premium ...  \n",
       "7  We are an E-commerce solution provider company...  "
      ]
     },
     "execution_count": 122,
     "metadata": {},
     "output_type": "execute_result"
    }
   ],
   "source": [
    "# Database\n",
    "df = pd.DataFrame.from_dict(Database)\n",
    "df\n",
    "# experience."
   ]
  },
  {
   "cell_type": "code",
   "execution_count": 73,
   "id": "ce9e4705-c65b-4ecc-a63c-cbf9b3fba89e",
   "metadata": {},
   "outputs": [
    {
     "data": {
      "text/plain": [
       "'Lahore, Punjab, Pakistan'"
      ]
     },
     "execution_count": 73,
     "metadata": {},
     "output_type": "execute_result"
    }
   ],
   "source": [
    "temp = \n",
    "temp"
   ]
  },
  {
   "cell_type": "code",
   "execution_count": 103,
   "id": "32a5b872-a6be-4658-8bde-0c295b610b66",
   "metadata": {},
   "outputs": [
    {
     "data": {
      "text/plain": [
       "'On-site'"
      ]
     },
     "execution_count": 103,
     "metadata": {},
     "output_type": "execute_result"
    }
   ],
   "source": [
    "space = "
   ]
  },
  {
   "cell_type": "code",
   "execution_count": null,
   "id": "56437862-7e9e-4ef4-9050-55e4c81ef067",
   "metadata": {},
   "outputs": [],
   "source": [
    "!conda install "
   ]
  }
 ],
 "metadata": {
  "kernelspec": {
   "display_name": "Python 3 (ipykernel)",
   "language": "python",
   "name": "python3"
  },
  "language_info": {
   "codemirror_mode": {
    "name": "ipython",
    "version": 3
   },
   "file_extension": ".py",
   "mimetype": "text/x-python",
   "name": "python",
   "nbconvert_exporter": "python",
   "pygments_lexer": "ipython3",
   "version": "3.9.7"
  }
 },
 "nbformat": 4,
 "nbformat_minor": 5
}
